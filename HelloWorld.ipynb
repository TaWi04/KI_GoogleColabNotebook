{
  "nbformat": 4,
  "nbformat_minor": 0,
  "metadata": {
    "colab": {
      "name": "HelloWorld.ipynb",
      "provenance": [],
      "collapsed_sections": [],
      "authorship_tag": "ABX9TyNrVTAS2+Gc/rIwcPTFmSnT",
      "include_colab_link": true
    },
    "kernelspec": {
      "name": "python3",
      "display_name": "Python 3"
    }
  },
  "cells": [
    {
      "cell_type": "markdown",
      "metadata": {
        "id": "view-in-github",
        "colab_type": "text"
      },
      "source": [
        "<a href=\"https://colab.research.google.com/github/TaWi04/KI_GoogleColabNotebook/blob/main/HelloWorld.ipynb\" target=\"_parent\"><img src=\"https://colab.research.google.com/assets/colab-badge.svg\" alt=\"Open In Colab\"/></a>"
      ]
    },
    {
      "cell_type": "markdown",
      "metadata": {
        "id": "8k40OE005a6M"
      },
      "source": [
        "# Counter\n"
      ]
    },
    {
      "cell_type": "code",
      "metadata": {
        "colab": {
          "base_uri": "https://localhost:8080/"
        },
        "id": "W_BfFzHWw4lY",
        "outputId": "301a38d1-c7f2-4634-9f0f-658589e55e37"
      },
      "source": [
        "print('Hello User!')"
      ],
      "execution_count": 55,
      "outputs": [
        {
          "output_type": "stream",
          "text": [
            "Hello User!\n"
          ],
          "name": "stdout"
        }
      ]
    },
    {
      "cell_type": "code",
      "metadata": {
        "colab": {
          "base_uri": "https://localhost:8080/"
        },
        "id": "_19pas-Dw_UY",
        "outputId": "479a99da-4a37-4ef4-d69d-fe68c49d3f9b"
      },
      "source": [
        "import time\n",
        "print('Please hold the line ...')\n",
        "remaining_time=10\n",
        "while(remaining_time > 0):\n",
        "  print('\\r','remaining time: ',remaining_time, end='')\n",
        "  time.sleep(1)\n",
        "  remaining_time-=1\n",
        "print('\\r','You are now ready to get started!')\n",
        "print(' Have fun!')\n",
        "\n"
      ],
      "execution_count": 56,
      "outputs": [
        {
          "output_type": "stream",
          "text": [
            "Please hold the line ...\n",
            " You are now ready to get started!\n",
            " Have fun!\n"
          ],
          "name": "stdout"
        }
      ]
    },
    {
      "cell_type": "code",
      "metadata": {
        "colab": {
          "base_uri": "https://localhost:8080/"
        },
        "id": "wiu9WJyO3vMN",
        "outputId": "f8454e3b-e207-486d-b0df-8fc490e58f09"
      },
      "source": [
        "import time\n",
        "for j in range(1,5):\n",
        "  print('\\r','waiting : %d'%j, end='')\n",
        "  time.sleep(1)"
      ],
      "execution_count": 57,
      "outputs": [
        {
          "output_type": "stream",
          "text": [
            " waiting : 4"
          ],
          "name": "stdout"
        }
      ]
    }
  ]
}