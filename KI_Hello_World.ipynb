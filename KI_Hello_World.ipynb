{
  "nbformat": 4,
  "nbformat_minor": 0,
  "metadata": {
    "colab": {
      "name": "Kopie von HelloWorld.ipynb",
      "provenance": [],
      "collapsed_sections": [],
      "authorship_tag": "ABX9TyNrVTAS2+Gc/rIwcPTFmSnT",
      "include_colab_link": true
    },
    "kernelspec": {
      "name": "python3",
      "display_name": "Python 3"
    }
  },
  "cells": [
    {
      "cell_type": "markdown",
      "metadata": {
        "id": "view-in-github",
        "colab_type": "text"
      },
      "source": [
        "<a href=\"https://colab.research.google.com/github/TaWi04/KI_GoogleColabNotebook/blob/main/KI_Hello_World.ipynb\" target=\"_parent\"><img src=\"https://colab.research.google.com/assets/colab-badge.svg\" alt=\"Open In Colab\"/></a>"
      ]
    },
    {
      "cell_type": "markdown",
      "metadata": {
        "id": "8k40OE005a6M"
      },
      "source": [
        "# Counter\n"
      ]
    },
    {
      "cell_type": "code",
      "metadata": {
        "colab": {
          "base_uri": "https://localhost:8080/"
        },
        "id": "W_BfFzHWw4lY",
        "outputId": "57399a44-c22d-4288-f2f0-3c26dca2e451"
      },
      "source": [
        "print('Hello User!')"
      ],
      "execution_count": 1,
      "outputs": [
        {
          "output_type": "stream",
          "text": [
            "Hello User!\n"
          ],
          "name": "stdout"
        }
      ]
    },
    {
      "cell_type": "code",
      "metadata": {
        "colab": {
          "base_uri": "https://localhost:8080/"
        },
        "id": "_19pas-Dw_UY",
        "outputId": "e8f3e055-ee1a-4f1d-b096-ec8a4901fee4"
      },
      "source": [
        "import time\n",
        "print('Please hold the line ...')\n",
        "remaining_time=10\n",
        "while(remaining_time > 0):\n",
        "  print('\\r','remaining time: ',remaining_time, end='')\n",
        "  time.sleep(1)\n",
        "  remaining_time-=1\n",
        "print('\\r','You are now ready to get started!')\n",
        "print(' Have fun!')\n",
        "\n"
      ],
      "execution_count": null,
      "outputs": [
        {
          "output_type": "stream",
          "text": [
            "Please hold the line ...\n",
            " You are now ready to get started!\n",
            " Have fun!\n"
          ],
          "name": "stdout"
        }
      ]
    },
    {
      "cell_type": "code",
      "metadata": {
        "colab": {
          "base_uri": "https://localhost:8080/"
        },
        "id": "wiu9WJyO3vMN",
        "outputId": "cf843f6b-e6a7-4aba-8dc3-bc4998fa4f11"
      },
      "source": [
        "import time\n",
        "for j in range(1,5):\n",
        "  print('\\r','waiting : %d'%j, end='')\n",
        "  time.sleep(1)"
      ],
      "execution_count": 3,
      "outputs": [
        {
          "output_type": "stream",
          "text": [
            " waiting : 4"
          ],
          "name": "stdout"
        }
      ]
    }
  ]
}